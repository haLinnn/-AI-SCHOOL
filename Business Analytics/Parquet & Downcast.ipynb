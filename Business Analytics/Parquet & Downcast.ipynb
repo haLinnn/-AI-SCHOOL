{
 "cells": [
  {
   "cell_type": "markdown",
   "id": "499ec64e",
   "metadata": {},
   "source": [
    "### read_csv\n",
    "#### header\n",
    "- header의 default는 첫 행을 컬럼으로 지정\n",
    "- header=0 하면 되나 싶지만 중간부터 불러오는 경우는 해당 안 됨\n",
    "- 예를 들어 51행부터 읽어들인다 했을 때, header=0이라고 하면 51번째 행을 컬럼으로 지정함\n",
    "- header=None으로 한 후 names에서 컬럼을 지정해주어야 함\n",
    "\n",
    "#### skiprows\n",
    "- 몇 번째 행까지 스킵할 것인지 설정\n",
    "- 5번째 행까지 스킵하고 6번째 행부터 읽어들이고 싶다면 skiprows=5라고 설정하면 됨\n",
    "\n",
    "#### names\n",
    "- 컬럼으로 사용할 이름을 리스트로 입력"
   ]
  },
  {
   "cell_type": "code",
   "execution_count": 1,
   "id": "c2e278ab",
   "metadata": {},
   "outputs": [
    {
     "data": {
      "text/plain": [
       "(7074794, 9)"
      ]
     },
     "execution_count": 1,
     "metadata": {},
     "output_type": "execute_result"
    }
   ],
   "source": [
    "import pandas as pd\n",
    "import os\n",
    "\n",
    "# 전체 행: 42448764개\n",
    "# 0 ~ 42448763\n",
    "# 불러올 행: 35,373,970 ~ 42,448,764(끝까지)  nrows=7074794\n",
    "# header=None으로 지정하면 컬럼이 0번째 행으로 들어가게 됨\n",
    "df = pd.read_csv('../data/2019-Oct.csv', skiprows=35373971, header=None)\n",
    "df.shape"
   ]
  },
  {
   "cell_type": "code",
   "execution_count": 2,
   "id": "a6c9a5ee",
   "metadata": {},
   "outputs": [
    {
     "name": "stdout",
     "output_type": "stream",
     "text": [
      "<class 'pandas.core.frame.DataFrame'>\n",
      "RangeIndex: 7074794 entries, 0 to 7074793\n",
      "Data columns (total 9 columns):\n",
      " #   Column  Dtype  \n",
      "---  ------  -----  \n",
      " 0   0       object \n",
      " 1   1       object \n",
      " 2   2       int64  \n",
      " 3   3       int64  \n",
      " 4   4       object \n",
      " 5   5       object \n",
      " 6   6       float64\n",
      " 7   7       int64  \n",
      " 8   8       object \n",
      "dtypes: float64(1), int64(3), object(5)\n",
      "memory usage: 485.8+ MB\n"
     ]
    }
   ],
   "source": [
    "df.info()"
   ]
  },
  {
   "cell_type": "code",
   "execution_count": 3,
   "id": "aeb7c556",
   "metadata": {},
   "outputs": [
    {
     "data": {
      "text/plain": [
       "['event_time',\n",
       " 'event_type',\n",
       " 'product_id',\n",
       " 'category_id',\n",
       " 'category_code',\n",
       " 'brand',\n",
       " 'price',\n",
       " 'user_id',\n",
       " 'user_session']"
      ]
     },
     "execution_count": 3,
     "metadata": {},
     "output_type": "execute_result"
    }
   ],
   "source": [
    "col_name = pd.read_csv('../data/2019-Oct.csv', nrows=2).columns.to_list()\n",
    "col_name"
   ]
  },
  {
   "cell_type": "code",
   "execution_count": 4,
   "id": "833f0d23",
   "metadata": {},
   "outputs": [],
   "source": [
    "df.columns = col_name"
   ]
  },
  {
   "cell_type": "code",
   "execution_count": 5,
   "id": "af545adb",
   "metadata": {},
   "outputs": [
    {
     "data": {
      "text/html": [
       "<div>\n",
       "<style scoped>\n",
       "    .dataframe tbody tr th:only-of-type {\n",
       "        vertical-align: middle;\n",
       "    }\n",
       "\n",
       "    .dataframe tbody tr th {\n",
       "        vertical-align: top;\n",
       "    }\n",
       "\n",
       "    .dataframe thead th {\n",
       "        text-align: right;\n",
       "    }\n",
       "</style>\n",
       "<table border=\"1\" class=\"dataframe\">\n",
       "  <thead>\n",
       "    <tr style=\"text-align: right;\">\n",
       "      <th></th>\n",
       "      <th>event_time</th>\n",
       "      <th>event_type</th>\n",
       "      <th>product_id</th>\n",
       "      <th>category_id</th>\n",
       "      <th>category_code</th>\n",
       "      <th>brand</th>\n",
       "      <th>price</th>\n",
       "      <th>user_id</th>\n",
       "      <th>user_session</th>\n",
       "    </tr>\n",
       "  </thead>\n",
       "  <tbody>\n",
       "    <tr>\n",
       "      <th>0</th>\n",
       "      <td>2019-10-26 10:48:22 UTC</td>\n",
       "      <td>view</td>\n",
       "      <td>1004856</td>\n",
       "      <td>2053013555631882655</td>\n",
       "      <td>electronics.smartphone</td>\n",
       "      <td>samsung</td>\n",
       "      <td>130.99</td>\n",
       "      <td>564338950</td>\n",
       "      <td>2f64f4fd-336b-4d0b-aa87-c4338feaf070</td>\n",
       "    </tr>\n",
       "    <tr>\n",
       "      <th>1</th>\n",
       "      <td>2019-10-26 10:48:22 UTC</td>\n",
       "      <td>view</td>\n",
       "      <td>1480558</td>\n",
       "      <td>2053013561092866779</td>\n",
       "      <td>computers.desktop</td>\n",
       "      <td>netechnics</td>\n",
       "      <td>1055.34</td>\n",
       "      <td>564332932</td>\n",
       "      <td>757cee17-5484-47f9-b846-19e20f5af1a6</td>\n",
       "    </tr>\n",
       "    <tr>\n",
       "      <th>2</th>\n",
       "      <td>2019-10-26 10:48:22 UTC</td>\n",
       "      <td>view</td>\n",
       "      <td>28718435</td>\n",
       "      <td>2053013565069067197</td>\n",
       "      <td>apparel.shoes.keds</td>\n",
       "      <td>strobbs</td>\n",
       "      <td>34.49</td>\n",
       "      <td>515784126</td>\n",
       "      <td>4dea1ebc-6539-4e9f-aeed-fc90a101290d</td>\n",
       "    </tr>\n",
       "    <tr>\n",
       "      <th>3</th>\n",
       "      <td>2019-10-26 10:48:22 UTC</td>\n",
       "      <td>view</td>\n",
       "      <td>1802114</td>\n",
       "      <td>2053013554415534427</td>\n",
       "      <td>electronics.video.tv</td>\n",
       "      <td>kivi</td>\n",
       "      <td>295.25</td>\n",
       "      <td>519151359</td>\n",
       "      <td>8fe5b713-0f71-4864-b256-83bc1e12404c</td>\n",
       "    </tr>\n",
       "    <tr>\n",
       "      <th>4</th>\n",
       "      <td>2019-10-26 10:48:22 UTC</td>\n",
       "      <td>view</td>\n",
       "      <td>1005244</td>\n",
       "      <td>2053013555631882655</td>\n",
       "      <td>electronics.smartphone</td>\n",
       "      <td>vivo</td>\n",
       "      <td>463.31</td>\n",
       "      <td>541981959</td>\n",
       "      <td>eb3a9b00-31ea-4aaa-b4f3-0848fcf4d88a</td>\n",
       "    </tr>\n",
       "  </tbody>\n",
       "</table>\n",
       "</div>"
      ],
      "text/plain": [
       "                event_time event_type  product_id          category_id  \\\n",
       "0  2019-10-26 10:48:22 UTC       view     1004856  2053013555631882655   \n",
       "1  2019-10-26 10:48:22 UTC       view     1480558  2053013561092866779   \n",
       "2  2019-10-26 10:48:22 UTC       view    28718435  2053013565069067197   \n",
       "3  2019-10-26 10:48:22 UTC       view     1802114  2053013554415534427   \n",
       "4  2019-10-26 10:48:22 UTC       view     1005244  2053013555631882655   \n",
       "\n",
       "            category_code       brand    price    user_id  \\\n",
       "0  electronics.smartphone     samsung   130.99  564338950   \n",
       "1       computers.desktop  netechnics  1055.34  564332932   \n",
       "2      apparel.shoes.keds     strobbs    34.49  515784126   \n",
       "3    electronics.video.tv        kivi   295.25  519151359   \n",
       "4  electronics.smartphone        vivo   463.31  541981959   \n",
       "\n",
       "                           user_session  \n",
       "0  2f64f4fd-336b-4d0b-aa87-c4338feaf070  \n",
       "1  757cee17-5484-47f9-b846-19e20f5af1a6  \n",
       "2  4dea1ebc-6539-4e9f-aeed-fc90a101290d  \n",
       "3  8fe5b713-0f71-4864-b256-83bc1e12404c  \n",
       "4  eb3a9b00-31ea-4aaa-b4f3-0848fcf4d88a  "
      ]
     },
     "execution_count": 5,
     "metadata": {},
     "output_type": "execute_result"
    }
   ],
   "source": [
    "df.head()"
   ]
  },
  {
   "cell_type": "markdown",
   "id": "0f79dd5b",
   "metadata": {},
   "source": [
    "1. user_session 컬럼 삭제\n",
    "2. 수치형 컬럼 unsigned 타입으로 변경\n",
    "3. object 타입의 컬럼은 category 타입으로 변경\n",
    "4. event_time 컬럼은 datetime 타입으로 변경"
   ]
  },
  {
   "cell_type": "code",
   "execution_count": 6,
   "id": "f4e4335a",
   "metadata": {},
   "outputs": [
    {
     "data": {
      "text/html": [
       "<div>\n",
       "<style scoped>\n",
       "    .dataframe tbody tr th:only-of-type {\n",
       "        vertical-align: middle;\n",
       "    }\n",
       "\n",
       "    .dataframe tbody tr th {\n",
       "        vertical-align: top;\n",
       "    }\n",
       "\n",
       "    .dataframe thead th {\n",
       "        text-align: right;\n",
       "    }\n",
       "</style>\n",
       "<table border=\"1\" class=\"dataframe\">\n",
       "  <thead>\n",
       "    <tr style=\"text-align: right;\">\n",
       "      <th></th>\n",
       "      <th>event_time</th>\n",
       "      <th>event_type</th>\n",
       "      <th>product_id</th>\n",
       "      <th>category_id</th>\n",
       "      <th>category_code</th>\n",
       "      <th>brand</th>\n",
       "      <th>price</th>\n",
       "      <th>user_id</th>\n",
       "    </tr>\n",
       "  </thead>\n",
       "  <tbody>\n",
       "    <tr>\n",
       "      <th>0</th>\n",
       "      <td>2019-10-26 10:48:22 UTC</td>\n",
       "      <td>view</td>\n",
       "      <td>1004856</td>\n",
       "      <td>2053013555631882655</td>\n",
       "      <td>electronics.smartphone</td>\n",
       "      <td>samsung</td>\n",
       "      <td>130.99</td>\n",
       "      <td>564338950</td>\n",
       "    </tr>\n",
       "    <tr>\n",
       "      <th>1</th>\n",
       "      <td>2019-10-26 10:48:22 UTC</td>\n",
       "      <td>view</td>\n",
       "      <td>1480558</td>\n",
       "      <td>2053013561092866779</td>\n",
       "      <td>computers.desktop</td>\n",
       "      <td>netechnics</td>\n",
       "      <td>1055.34</td>\n",
       "      <td>564332932</td>\n",
       "    </tr>\n",
       "  </tbody>\n",
       "</table>\n",
       "</div>"
      ],
      "text/plain": [
       "                event_time event_type  product_id          category_id  \\\n",
       "0  2019-10-26 10:48:22 UTC       view     1004856  2053013555631882655   \n",
       "1  2019-10-26 10:48:22 UTC       view     1480558  2053013561092866779   \n",
       "\n",
       "            category_code       brand    price    user_id  \n",
       "0  electronics.smartphone     samsung   130.99  564338950  \n",
       "1       computers.desktop  netechnics  1055.34  564332932  "
      ]
     },
     "execution_count": 6,
     "metadata": {},
     "output_type": "execute_result"
    }
   ],
   "source": [
    "# user_session 컬럼 삭제\n",
    "df = df.drop(['user_session'], axis=1)\n",
    "df.head(2)"
   ]
  },
  {
   "cell_type": "code",
   "execution_count": 7,
   "id": "72f1a1ba",
   "metadata": {},
   "outputs": [
    {
     "name": "stdout",
     "output_type": "stream",
     "text": [
      "<class 'pandas.core.frame.DataFrame'>\n",
      "RangeIndex: 7074794 entries, 0 to 7074793\n",
      "Data columns (total 8 columns):\n",
      " #   Column         Dtype  \n",
      "---  ------         -----  \n",
      " 0   event_time     object \n",
      " 1   event_type     object \n",
      " 2   product_id     int64  \n",
      " 3   category_id    int64  \n",
      " 4   category_code  object \n",
      " 5   brand          object \n",
      " 6   price          float64\n",
      " 7   user_id        int64  \n",
      "dtypes: float64(1), int64(3), object(4)\n",
      "memory usage: 431.8+ MB\n"
     ]
    }
   ],
   "source": [
    "df.info()"
   ]
  },
  {
   "cell_type": "code",
   "execution_count": 8,
   "id": "11c4b05f",
   "metadata": {},
   "outputs": [],
   "source": [
    "# event_time 컬럼은 datetime 타입으로 변경\n",
    "df['event_time'] = pd.to_datetime(df['event_time'])"
   ]
  },
  {
   "cell_type": "code",
   "execution_count": 9,
   "id": "655dc872",
   "metadata": {},
   "outputs": [
    {
     "name": "stdout",
     "output_type": "stream",
     "text": [
      "<class 'pandas.core.frame.DataFrame'>\n",
      "RangeIndex: 7074794 entries, 0 to 7074793\n",
      "Data columns (total 8 columns):\n",
      " #   Column         Dtype              \n",
      "---  ------         -----              \n",
      " 0   event_time     datetime64[ns, UTC]\n",
      " 1   event_type     object             \n",
      " 2   product_id     int64              \n",
      " 3   category_id    int64              \n",
      " 4   category_code  object             \n",
      " 5   brand          object             \n",
      " 6   price          float64            \n",
      " 7   user_id        int64              \n",
      "dtypes: datetime64[ns, UTC](1), float64(1), int64(3), object(3)\n",
      "memory usage: 431.8+ MB\n"
     ]
    }
   ],
   "source": [
    "df.info()"
   ]
  },
  {
   "cell_type": "code",
   "execution_count": 10,
   "id": "3d5e818f",
   "metadata": {},
   "outputs": [],
   "source": [
    "# 수치형 컬럼 unsigned 타입으로 변경, object 타입의 컬럼 category 타입으로 변경\n",
    "for col in df.columns:\n",
    "    type_name = df[col].dtypes.name\n",
    "    if type_name.startswith('int'):\n",
    "        df[col] = pd.to_numeric(df[col], downcast='unsigned')\n",
    "    elif type_name.startswith('float'):\n",
    "        df[col] = pd.to_numeric(df[col], downcast='float')\n",
    "    elif type_name.startswith('object'):\n",
    "        df[col] = df[col].astype('category')"
   ]
  },
  {
   "cell_type": "code",
   "execution_count": 11,
   "id": "f84598aa",
   "metadata": {},
   "outputs": [
    {
     "name": "stdout",
     "output_type": "stream",
     "text": [
      "<class 'pandas.core.frame.DataFrame'>\n",
      "RangeIndex: 7074794 entries, 0 to 7074793\n",
      "Data columns (total 8 columns):\n",
      " #   Column         Dtype              \n",
      "---  ------         -----              \n",
      " 0   event_time     datetime64[ns, UTC]\n",
      " 1   event_type     category           \n",
      " 2   product_id     uint32             \n",
      " 3   category_id    uint64             \n",
      " 4   category_code  category           \n",
      " 5   brand          category           \n",
      " 6   price          float32            \n",
      " 7   user_id        uint32             \n",
      "dtypes: category(3), datetime64[ns, UTC](1), float32(1), uint32(2), uint64(1)\n",
      "memory usage: 216.1 MB\n"
     ]
    }
   ],
   "source": [
    "df.info()"
   ]
  },
  {
   "cell_type": "markdown",
   "id": "f8c8cf15",
   "metadata": {},
   "source": [
    "### parquet로 저장"
   ]
  },
  {
   "cell_type": "code",
   "execution_count": 12,
   "id": "572191ee",
   "metadata": {},
   "outputs": [],
   "source": [
    "file_path_parquet = 'df.parquet.gzip'\n",
    "df.to_parquet(file_path_parquet, compression='gzip')"
   ]
  },
  {
   "cell_type": "code",
   "execution_count": 13,
   "id": "329ca0b3",
   "metadata": {},
   "outputs": [
    {
     "data": {
      "text/html": [
       "<div>\n",
       "<style scoped>\n",
       "    .dataframe tbody tr th:only-of-type {\n",
       "        vertical-align: middle;\n",
       "    }\n",
       "\n",
       "    .dataframe tbody tr th {\n",
       "        vertical-align: top;\n",
       "    }\n",
       "\n",
       "    .dataframe thead th {\n",
       "        text-align: right;\n",
       "    }\n",
       "</style>\n",
       "<table border=\"1\" class=\"dataframe\">\n",
       "  <thead>\n",
       "    <tr style=\"text-align: right;\">\n",
       "      <th></th>\n",
       "      <th>event_time</th>\n",
       "      <th>event_type</th>\n",
       "      <th>product_id</th>\n",
       "      <th>category_id</th>\n",
       "      <th>category_code</th>\n",
       "      <th>brand</th>\n",
       "      <th>price</th>\n",
       "      <th>user_id</th>\n",
       "    </tr>\n",
       "  </thead>\n",
       "  <tbody>\n",
       "    <tr>\n",
       "      <th>0</th>\n",
       "      <td>2019-10-26 10:48:22+00:00</td>\n",
       "      <td>view</td>\n",
       "      <td>1004856</td>\n",
       "      <td>2053013555631882655</td>\n",
       "      <td>electronics.smartphone</td>\n",
       "      <td>samsung</td>\n",
       "      <td>130.990005</td>\n",
       "      <td>564338950</td>\n",
       "    </tr>\n",
       "    <tr>\n",
       "      <th>1</th>\n",
       "      <td>2019-10-26 10:48:22+00:00</td>\n",
       "      <td>view</td>\n",
       "      <td>1480558</td>\n",
       "      <td>2053013561092866779</td>\n",
       "      <td>computers.desktop</td>\n",
       "      <td>netechnics</td>\n",
       "      <td>1055.339966</td>\n",
       "      <td>564332932</td>\n",
       "    </tr>\n",
       "    <tr>\n",
       "      <th>2</th>\n",
       "      <td>2019-10-26 10:48:22+00:00</td>\n",
       "      <td>view</td>\n",
       "      <td>28718435</td>\n",
       "      <td>2053013565069067197</td>\n",
       "      <td>apparel.shoes.keds</td>\n",
       "      <td>strobbs</td>\n",
       "      <td>34.490002</td>\n",
       "      <td>515784126</td>\n",
       "    </tr>\n",
       "    <tr>\n",
       "      <th>3</th>\n",
       "      <td>2019-10-26 10:48:22+00:00</td>\n",
       "      <td>view</td>\n",
       "      <td>1802114</td>\n",
       "      <td>2053013554415534427</td>\n",
       "      <td>electronics.video.tv</td>\n",
       "      <td>kivi</td>\n",
       "      <td>295.250000</td>\n",
       "      <td>519151359</td>\n",
       "    </tr>\n",
       "    <tr>\n",
       "      <th>4</th>\n",
       "      <td>2019-10-26 10:48:22+00:00</td>\n",
       "      <td>view</td>\n",
       "      <td>1005244</td>\n",
       "      <td>2053013555631882655</td>\n",
       "      <td>electronics.smartphone</td>\n",
       "      <td>vivo</td>\n",
       "      <td>463.309998</td>\n",
       "      <td>541981959</td>\n",
       "    </tr>\n",
       "    <tr>\n",
       "      <th>...</th>\n",
       "      <td>...</td>\n",
       "      <td>...</td>\n",
       "      <td>...</td>\n",
       "      <td>...</td>\n",
       "      <td>...</td>\n",
       "      <td>...</td>\n",
       "      <td>...</td>\n",
       "      <td>...</td>\n",
       "    </tr>\n",
       "    <tr>\n",
       "      <th>7074789</th>\n",
       "      <td>2019-10-31 23:59:58+00:00</td>\n",
       "      <td>view</td>\n",
       "      <td>2300275</td>\n",
       "      <td>2053013560530830019</td>\n",
       "      <td>electronics.camera.video</td>\n",
       "      <td>gopro</td>\n",
       "      <td>527.400024</td>\n",
       "      <td>537931532</td>\n",
       "    </tr>\n",
       "    <tr>\n",
       "      <th>7074790</th>\n",
       "      <td>2019-10-31 23:59:58+00:00</td>\n",
       "      <td>view</td>\n",
       "      <td>10800172</td>\n",
       "      <td>2053013554994348409</td>\n",
       "      <td>NaN</td>\n",
       "      <td>redmond</td>\n",
       "      <td>61.750000</td>\n",
       "      <td>527322328</td>\n",
       "    </tr>\n",
       "    <tr>\n",
       "      <th>7074791</th>\n",
       "      <td>2019-10-31 23:59:58+00:00</td>\n",
       "      <td>view</td>\n",
       "      <td>5701038</td>\n",
       "      <td>2053013553970938175</td>\n",
       "      <td>auto.accessories.player</td>\n",
       "      <td>kenwood</td>\n",
       "      <td>128.699997</td>\n",
       "      <td>566280422</td>\n",
       "    </tr>\n",
       "    <tr>\n",
       "      <th>7074792</th>\n",
       "      <td>2019-10-31 23:59:59+00:00</td>\n",
       "      <td>view</td>\n",
       "      <td>21407424</td>\n",
       "      <td>2053013561579406073</td>\n",
       "      <td>electronics.clocks</td>\n",
       "      <td>tissot</td>\n",
       "      <td>689.849976</td>\n",
       "      <td>513118352</td>\n",
       "    </tr>\n",
       "    <tr>\n",
       "      <th>7074793</th>\n",
       "      <td>2019-10-31 23:59:59+00:00</td>\n",
       "      <td>view</td>\n",
       "      <td>13300120</td>\n",
       "      <td>2053013557166998015</td>\n",
       "      <td>NaN</td>\n",
       "      <td>swisshome</td>\n",
       "      <td>155.729996</td>\n",
       "      <td>525266378</td>\n",
       "    </tr>\n",
       "  </tbody>\n",
       "</table>\n",
       "<p>7074794 rows × 8 columns</p>\n",
       "</div>"
      ],
      "text/plain": [
       "                       event_time event_type  product_id          category_id  \\\n",
       "0       2019-10-26 10:48:22+00:00       view     1004856  2053013555631882655   \n",
       "1       2019-10-26 10:48:22+00:00       view     1480558  2053013561092866779   \n",
       "2       2019-10-26 10:48:22+00:00       view    28718435  2053013565069067197   \n",
       "3       2019-10-26 10:48:22+00:00       view     1802114  2053013554415534427   \n",
       "4       2019-10-26 10:48:22+00:00       view     1005244  2053013555631882655   \n",
       "...                           ...        ...         ...                  ...   \n",
       "7074789 2019-10-31 23:59:58+00:00       view     2300275  2053013560530830019   \n",
       "7074790 2019-10-31 23:59:58+00:00       view    10800172  2053013554994348409   \n",
       "7074791 2019-10-31 23:59:58+00:00       view     5701038  2053013553970938175   \n",
       "7074792 2019-10-31 23:59:59+00:00       view    21407424  2053013561579406073   \n",
       "7074793 2019-10-31 23:59:59+00:00       view    13300120  2053013557166998015   \n",
       "\n",
       "                    category_code       brand        price    user_id  \n",
       "0          electronics.smartphone     samsung   130.990005  564338950  \n",
       "1               computers.desktop  netechnics  1055.339966  564332932  \n",
       "2              apparel.shoes.keds     strobbs    34.490002  515784126  \n",
       "3            electronics.video.tv        kivi   295.250000  519151359  \n",
       "4          electronics.smartphone        vivo   463.309998  541981959  \n",
       "...                           ...         ...          ...        ...  \n",
       "7074789  electronics.camera.video       gopro   527.400024  537931532  \n",
       "7074790                       NaN     redmond    61.750000  527322328  \n",
       "7074791   auto.accessories.player     kenwood   128.699997  566280422  \n",
       "7074792        electronics.clocks      tissot   689.849976  513118352  \n",
       "7074793                       NaN   swisshome   155.729996  525266378  \n",
       "\n",
       "[7074794 rows x 8 columns]"
      ]
     },
     "execution_count": 13,
     "metadata": {},
     "output_type": "execute_result"
    }
   ],
   "source": [
    "pd.read_parquet(file_path_parquet)"
   ]
  },
  {
   "cell_type": "markdown",
   "id": "c7993c4c",
   "metadata": {},
   "source": [
    "- DAU, MAU, ARPU, ARPPU, 리텐션(시간 코호트) 분석, RFM, 군집화 등\n",
    "- user_id별 RFM, 군집화"
   ]
  }
 ],
 "metadata": {
  "kernelspec": {
   "display_name": "Python 3 (ipykernel)",
   "language": "python",
   "name": "python3"
  },
  "language_info": {
   "codemirror_mode": {
    "name": "ipython",
    "version": 3
   },
   "file_extension": ".py",
   "mimetype": "text/x-python",
   "name": "python",
   "nbconvert_exporter": "python",
   "pygments_lexer": "ipython3",
   "version": "3.8.16"
  },
  "toc": {
   "base_numbering": 1,
   "nav_menu": {},
   "number_sections": true,
   "sideBar": true,
   "skip_h1_title": false,
   "title_cell": "Table of Contents",
   "title_sidebar": "Contents",
   "toc_cell": false,
   "toc_position": {},
   "toc_section_display": true,
   "toc_window_display": false
  }
 },
 "nbformat": 4,
 "nbformat_minor": 5
}
