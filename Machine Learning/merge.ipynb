{
 "cells": [
  {
   "cell_type": "code",
   "execution_count": 1,
   "id": "88cbe435",
   "metadata": {},
   "outputs": [
    {
     "data": {
      "text/html": [
       "<div>\n",
       "<style scoped>\n",
       "    .dataframe tbody tr th:only-of-type {\n",
       "        vertical-align: middle;\n",
       "    }\n",
       "\n",
       "    .dataframe tbody tr th {\n",
       "        vertical-align: top;\n",
       "    }\n",
       "\n",
       "    .dataframe thead th {\n",
       "        text-align: right;\n",
       "    }\n",
       "</style>\n",
       "<table border=\"1\" class=\"dataframe\">\n",
       "  <thead>\n",
       "    <tr style=\"text-align: right;\">\n",
       "      <th></th>\n",
       "      <th>event_time</th>\n",
       "      <th>event_type</th>\n",
       "      <th>product_id</th>\n",
       "      <th>category_id</th>\n",
       "      <th>category_code</th>\n",
       "      <th>brand</th>\n",
       "      <th>price</th>\n",
       "      <th>user_id</th>\n",
       "    </tr>\n",
       "  </thead>\n",
       "  <tbody>\n",
       "    <tr>\n",
       "      <th>0</th>\n",
       "      <td>2019-10-16 12:04:37+00:00</td>\n",
       "      <td>view</td>\n",
       "      <td>7900918</td>\n",
       "      <td>2053013556487520725</td>\n",
       "      <td>furniture.kitchen.chair</td>\n",
       "      <td>joie</td>\n",
       "      <td>102.709999</td>\n",
       "      <td>560842110</td>\n",
       "    </tr>\n",
       "    <tr>\n",
       "      <th>1</th>\n",
       "      <td>2019-10-16 12:04:37+00:00</td>\n",
       "      <td>view</td>\n",
       "      <td>1003317</td>\n",
       "      <td>2053013555631882655</td>\n",
       "      <td>electronics.smartphone</td>\n",
       "      <td>apple</td>\n",
       "      <td>952.150024</td>\n",
       "      <td>560842739</td>\n",
       "    </tr>\n",
       "    <tr>\n",
       "      <th>2</th>\n",
       "      <td>2019-10-16 12:04:37+00:00</td>\n",
       "      <td>view</td>\n",
       "      <td>2501929</td>\n",
       "      <td>2053013564003713919</td>\n",
       "      <td>appliances.kitchen.oven</td>\n",
       "      <td>asel</td>\n",
       "      <td>61.750000</td>\n",
       "      <td>525817175</td>\n",
       "    </tr>\n",
       "    <tr>\n",
       "      <th>3</th>\n",
       "      <td>2019-10-16 12:04:37+00:00</td>\n",
       "      <td>view</td>\n",
       "      <td>1004833</td>\n",
       "      <td>2053013555631882655</td>\n",
       "      <td>electronics.smartphone</td>\n",
       "      <td>samsung</td>\n",
       "      <td>172.169998</td>\n",
       "      <td>515456548</td>\n",
       "    </tr>\n",
       "    <tr>\n",
       "      <th>4</th>\n",
       "      <td>2019-10-16 12:04:37+00:00</td>\n",
       "      <td>cart</td>\n",
       "      <td>1004836</td>\n",
       "      <td>2053013555631882655</td>\n",
       "      <td>electronics.smartphone</td>\n",
       "      <td>samsung</td>\n",
       "      <td>229.410004</td>\n",
       "      <td>529758564</td>\n",
       "    </tr>\n",
       "  </tbody>\n",
       "</table>\n",
       "</div>"
      ],
      "text/plain": [
       "                 event_time event_type  product_id          category_id  \\\n",
       "0 2019-10-16 12:04:37+00:00       view     7900918  2053013556487520725   \n",
       "1 2019-10-16 12:04:37+00:00       view     1003317  2053013555631882655   \n",
       "2 2019-10-16 12:04:37+00:00       view     2501929  2053013564003713919   \n",
       "3 2019-10-16 12:04:37+00:00       view     1004833  2053013555631882655   \n",
       "4 2019-10-16 12:04:37+00:00       cart     1004836  2053013555631882655   \n",
       "\n",
       "             category_code    brand       price    user_id  \n",
       "0  furniture.kitchen.chair     joie  102.709999  560842110  \n",
       "1   electronics.smartphone    apple  952.150024  560842739  \n",
       "2  appliances.kitchen.oven     asel   61.750000  525817175  \n",
       "3   electronics.smartphone  samsung  172.169998  515456548  \n",
       "4   electronics.smartphone  samsung  229.410004  529758564  "
      ]
     },
     "execution_count": 1,
     "metadata": {},
     "output_type": "execute_result"
    }
   ],
   "source": [
    "import pandas as pd\n",
    "\n",
    "df = pd.read_parquet('df_final.parquet.gzip')\n",
    "df.head()"
   ]
  },
  {
   "cell_type": "code",
   "execution_count": 2,
   "id": "041c83fc",
   "metadata": {},
   "outputs": [
    {
     "data": {
      "text/plain": [
       "(42448763, 8)"
      ]
     },
     "execution_count": 2,
     "metadata": {},
     "output_type": "execute_result"
    }
   ],
   "source": [
    "df.shape"
   ]
  },
  {
   "cell_type": "code",
   "execution_count": 3,
   "id": "6061cc90",
   "metadata": {},
   "outputs": [
    {
     "data": {
      "text/plain": [
       "event_time              0\n",
       "event_type              0\n",
       "product_id              0\n",
       "category_id             0\n",
       "category_code    13422656\n",
       "brand             6011377\n",
       "price                   0\n",
       "user_id                 0\n",
       "dtype: int64"
      ]
     },
     "execution_count": 3,
     "metadata": {},
     "output_type": "execute_result"
    }
   ],
   "source": [
    "df.isnull().sum()"
   ]
  },
  {
   "cell_type": "code",
   "execution_count": 4,
   "id": "fb5a6f46",
   "metadata": {},
   "outputs": [
    {
     "data": {
      "text/plain": [
       "(35350162, 8)"
      ]
     },
     "execution_count": 4,
     "metadata": {},
     "output_type": "execute_result"
    }
   ],
   "source": [
    "df = df.drop_duplicates()\n",
    "df.shape"
   ]
  },
  {
   "cell_type": "code",
   "execution_count": 5,
   "id": "a84e564e",
   "metadata": {},
   "outputs": [
    {
     "data": {
      "text/plain": [
       "(22146517, 8)"
      ]
     },
     "execution_count": 5,
     "metadata": {},
     "output_type": "execute_result"
    }
   ],
   "source": [
    "df = df.dropna()\n",
    "df.shape"
   ]
  },
  {
   "cell_type": "code",
   "execution_count": 9,
   "id": "196f9c32",
   "metadata": {},
   "outputs": [
    {
     "data": {
      "text/plain": [
       "(1000000, 8)"
      ]
     },
     "execution_count": 9,
     "metadata": {},
     "output_type": "execute_result"
    }
   ],
   "source": [
    "df = df.sample(1000000)\n",
    "df.shape"
   ]
  },
  {
   "cell_type": "code",
   "execution_count": 10,
   "id": "ce2e2f37",
   "metadata": {},
   "outputs": [],
   "source": [
    "file_path_parquet = 'df.sample.parquet.gzip'\n",
    "df.to_parquet(file_path_parquet, compression='gzip')"
   ]
  },
  {
   "cell_type": "code",
   "execution_count": 15,
   "id": "e1b1e826",
   "metadata": {},
   "outputs": [
    {
     "name": "stdout",
     "output_type": "stream",
     "text": [
      "<class 'pandas.core.frame.DataFrame'>\n",
      "Int64Index: 1000000 entries, 6733995 to 3615460\n",
      "Data columns (total 8 columns):\n",
      " #   Column         Non-Null Count    Dtype              \n",
      "---  ------         --------------    -----              \n",
      " 0   event_time     1000000 non-null  datetime64[ns, UTC]\n",
      " 1   event_type     1000000 non-null  category           \n",
      " 2   product_id     1000000 non-null  int64              \n",
      " 3   category_id    1000000 non-null  uint64             \n",
      " 4   category_code  1000000 non-null  object             \n",
      " 5   brand          1000000 non-null  object             \n",
      " 6   price          1000000 non-null  float32            \n",
      " 7   user_id        1000000 non-null  int64              \n",
      "dtypes: category(1), datetime64[ns, UTC](1), float32(1), int64(2), object(2), uint64(1)\n",
      "memory usage: 58.2+ MB\n"
     ]
    }
   ],
   "source": [
    "df.info()"
   ]
  }
 ],
 "metadata": {
  "kernelspec": {
   "display_name": "Python 3 (ipykernel)",
   "language": "python",
   "name": "python3"
  },
  "language_info": {
   "codemirror_mode": {
    "name": "ipython",
    "version": 3
   },
   "file_extension": ".py",
   "mimetype": "text/x-python",
   "name": "python",
   "nbconvert_exporter": "python",
   "pygments_lexer": "ipython3",
   "version": "3.8.16"
  },
  "toc": {
   "base_numbering": 1,
   "nav_menu": {},
   "number_sections": true,
   "sideBar": true,
   "skip_h1_title": false,
   "title_cell": "Table of Contents",
   "title_sidebar": "Contents",
   "toc_cell": false,
   "toc_position": {},
   "toc_section_display": true,
   "toc_window_display": false
  }
 },
 "nbformat": 4,
 "nbformat_minor": 5
}
